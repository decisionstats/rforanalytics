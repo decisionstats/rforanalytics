{
 "cells": [
  {
   "cell_type": "markdown",
   "metadata": {},
   "source": [
    "## Python Packages for Speech Recgonition\n",
    "\n",
    "\n",
    " - mapiai\n",
    " - assemblyai\n",
    " - google-cloud-speech\n",
    " - pocketsphinx\n",
    " - SpeechRecognition\n",
    " - watson-developer-cloud\n",
    " - wit\n",
    "    \n",
    "#### Some of these packages—such as wit and apiai—offer built-in features,\n",
    "#### like natural language processing for identifying a speaker’s intent,\n",
    "#### which go beyond basic speech recognition. \n",
    "#### Others, like google-cloud-speech, focus solely on speech-to-text conversion."
   ]
  },
  {
   "cell_type": "code",
   "execution_count": 1,
   "metadata": {
    "collapsed": false
   },
   "outputs": [
    {
     "name": "stdout",
     "output_type": "stream",
     "text": [
      "Collecting SpeechRecognition\n",
      "  Downloading https://files.pythonhosted.org/packages/26/e1/7f5678cd94ec1234269d23756dbdaa4c8cfaed973412f88ae8adf7893a50/SpeechRecognition-3.8.1-py2.py3-none-any.whl (32.8MB)\n",
      "Installing collected packages: SpeechRecognition\n",
      "Successfully installed SpeechRecognition-3.8.1\n"
     ]
    },
    {
     "name": "stderr",
     "output_type": "stream",
     "text": [
      "You are using pip version 10.0.1, however version 18.0 is available.\n",
      "You should consider upgrading via the 'python -m pip install --upgrade pip' command.\n"
     ]
    }
   ],
   "source": [
    "! pip install SpeechRecognition"
   ]
  },
  {
   "cell_type": "code",
   "execution_count": 6,
   "metadata": {
    "collapsed": false
   },
   "outputs": [
    {
     "data": {
      "text/plain": [
       "'3.8.1'"
      ]
     },
     "execution_count": 6,
     "metadata": {},
     "output_type": "execute_result"
    }
   ],
   "source": [
    "import speech_recognition as sr\n",
    "sr.__version__"
   ]
  },
  {
   "cell_type": "code",
   "execution_count": 7,
   "metadata": {
    "collapsed": true
   },
   "outputs": [],
   "source": [
    "r = sr.Recognizer()"
   ]
  },
  {
   "cell_type": "code",
   "execution_count": 8,
   "metadata": {
    "collapsed": false
   },
   "outputs": [
    {
     "data": {
      "text/plain": [
       "<speech_recognition.Recognizer at 0x4e7b5c0>"
      ]
     },
     "execution_count": 8,
     "metadata": {},
     "output_type": "execute_result"
    }
   ],
   "source": [
    "r"
   ]
  },
  {
   "cell_type": "markdown",
   "metadata": {},
   "source": [
    "- recognize_bing(): Microsoft Bing Speech\n",
    "- recognize_google(): Google Web Speech API\n",
    "- recognize_google_cloud(): Google Cloud Speech - requires installation of the google-cloud-speech package\n",
    "- recognize_houndify(): Houndify by SoundHound\n",
    "- recognize_ibm(): IBM Speech to Text\n",
    "- recognize_sphinx(): CMU Sphinx - requires installing PocketSphinx\n",
    "- recognize_wit(): Wit.ai\n",
    "\n",
    "*Of the seven, only recognize_sphinx() works offline with the CMU Sphinx engine.\n",
    "\n",
    "- The default key provided by SpeechRecognition is for testing purposes only, and Google may revoke it at any time. \n",
    "- It is not a good idea to use the Google Web Speech API in production. \n",
    "- Even with a valid API key, you’ll be limited to only 50 requests per day, and there is no way to raise this quota. \n",
    "- Fortunately, SpeechRecognition’s interface is nearly identical for each API,"
   ]
  },
  {
   "cell_type": "code",
   "execution_count": 9,
   "metadata": {
    "collapsed": false
   },
   "outputs": [
    {
     "ename": "TypeError",
     "evalue": "recognize_google() missing 1 required positional argument: 'audio_data'",
     "output_type": "error",
     "traceback": [
      "\u001b[0;31m---------------------------------------------------------------------------\u001b[0m",
      "\u001b[0;31mTypeError\u001b[0m                                 Traceback (most recent call last)",
      "\u001b[0;32m<ipython-input-9-036b34d4868e>\u001b[0m in \u001b[0;36m<module>\u001b[0;34m()\u001b[0m\n\u001b[0;32m----> 1\u001b[0;31m \u001b[0mr\u001b[0m\u001b[1;33m.\u001b[0m\u001b[0mrecognize_google\u001b[0m\u001b[1;33m(\u001b[0m\u001b[1;33m)\u001b[0m\u001b[1;33m\u001b[0m\u001b[0m\n\u001b[0m",
      "\u001b[0;31mTypeError\u001b[0m: recognize_google() missing 1 required positional argument: 'audio_data'"
     ]
    }
   ],
   "source": [
    "r.recognize_google()"
   ]
  },
  {
   "cell_type": "code",
   "execution_count": 10,
   "metadata": {
    "collapsed": true
   },
   "outputs": [],
   "source": [
    "import os as os"
   ]
  },
  {
   "cell_type": "code",
   "execution_count": 11,
   "metadata": {
    "collapsed": false
   },
   "outputs": [
    {
     "data": {
      "text/plain": [
       "'C:\\\\Users\\\\Dell\\\\Documents'"
      ]
     },
     "execution_count": 11,
     "metadata": {},
     "output_type": "execute_result"
    }
   ],
   "source": [
    "os.getcwd()"
   ]
  },
  {
   "cell_type": "code",
   "execution_count": 13,
   "metadata": {
    "collapsed": false
   },
   "outputs": [],
   "source": [
    "os.chdir('C:\\\\Users\\\\Dell\\\\Documents\\\\python-speech-recognition\\\\audio_files')"
   ]
  },
  {
   "cell_type": "code",
   "execution_count": 14,
   "metadata": {
    "collapsed": false
   },
   "outputs": [
    {
     "data": {
      "text/plain": [
       "['harvard.wav', 'jackhammer.wav']"
      ]
     },
     "execution_count": 14,
     "metadata": {},
     "output_type": "execute_result"
    }
   ],
   "source": [
    "os.listdir()"
   ]
  },
  {
   "cell_type": "code",
   "execution_count": 15,
   "metadata": {
    "collapsed": false
   },
   "outputs": [
    {
     "data": {
      "text/plain": [
       "<speech_recognition.AudioFile at 0x4e840b8>"
      ]
     },
     "execution_count": 15,
     "metadata": {},
     "output_type": "execute_result"
    }
   ],
   "source": [
    "harvard = sr.AudioFile('harvard.wav')\n",
    "harvard"
   ]
  },
  {
   "cell_type": "code",
   "execution_count": 16,
   "metadata": {
    "collapsed": true
   },
   "outputs": [],
   "source": [
    " with harvard as source:\n",
    "    audio = r.record(source)"
   ]
  },
  {
   "cell_type": "code",
   "execution_count": 17,
   "metadata": {
    "collapsed": false
   },
   "outputs": [
    {
     "data": {
      "text/plain": [
       "<speech_recognition.AudioData at 0x4e84390>"
      ]
     },
     "execution_count": 17,
     "metadata": {},
     "output_type": "execute_result"
    }
   ],
   "source": [
    "audio"
   ]
  },
  {
   "cell_type": "code",
   "execution_count": 18,
   "metadata": {
    "collapsed": false
   },
   "outputs": [
    {
     "data": {
      "text/plain": [
       "\"best small about beer drinkers it takes heat to bring out the order hold up resource help in West it's ok take always fine with him because of astora my favourite is just for food is Bihar cross bun\""
      ]
     },
     "execution_count": 18,
     "metadata": {},
     "output_type": "execute_result"
    }
   ],
   "source": [
    "r.recognize_google(audio)"
   ]
  },
  {
   "cell_type": "markdown",
   "metadata": {},
   "source": [
    "#### actual audio\n",
    "\n",
    "- the stale smell of old beer lingers \n",
    "- it takes heat to bring out the odor \n",
    "- a cold dip restores health and zest \n",
    "- a salt pickle taste fine with ham\n",
    "- tacos al Pastore are my favorite\n",
    "- a zestful food is the hot cross bun'"
   ]
  },
  {
   "cell_type": "markdown",
   "metadata": {},
   "source": [
    "Lets try more APIs to get a better result"
   ]
  },
  {
   "cell_type": "markdown",
   "metadata": {},
   "source": [
    "https://azure.microsoft.com/en-in/try/cognitive-services/?api=speech-api"
   ]
  },
  {
   "cell_type": "code",
   "execution_count": 20,
   "metadata": {
    "collapsed": false
   },
   "outputs": [
    {
     "data": {
      "text/plain": [
       "'The stale smell of old beer lingers it takes heat to bring out the older it cold dip restore his health and zest a salt pickle taste fine with Ham tacos al pastore are my favorite a zestful food is the hot cross bun.'"
      ]
     },
     "execution_count": 20,
     "metadata": {},
     "output_type": "execute_result"
    }
   ],
   "source": [
    "r.recognize_bing(audio,'58d6877152964c718ce36b38db85cce5')"
   ]
  },
  {
   "cell_type": "code",
   "execution_count": 21,
   "metadata": {
    "collapsed": true
   },
   "outputs": [],
   "source": [
    "#Bing gave better results"
   ]
  },
  {
   "cell_type": "code",
   "execution_count": 26,
   "metadata": {
    "collapsed": false
   },
   "outputs": [
    {
     "name": "stdout",
     "output_type": "stream",
     "text": [
      "Requirement already satisfied: google-cloud in c:\\users\\dell\\anaconda3\\lib\\site-packages (0.34.0)\n"
     ]
    }
   ],
   "source": [
    "! pip install google-cloud"
   ]
  },
  {
   "cell_type": "markdown",
   "metadata": {},
   "source": [
    "Enable API at https://console.cloud.google.com/apis/api/speech.googleapis.com/overview?project=subtle-creek-142210\n",
    "    \n",
    " https://console.cloud.google.com/apis/credentials/wizard\n",
    " ?project=subtle-creek-142210"
   ]
  },
  {
   "cell_type": "code",
   "execution_count": 36,
   "metadata": {
    "collapsed": false
   },
   "outputs": [
    {
     "name": "stdout",
     "output_type": "stream",
     "text": [
      "Collecting google-api-python-client\n",
      "  Using cached https://files.pythonhosted.org/packages/56/04/5259a17a16a779426f6e2ac62796135b0d4a59cf8033a21037fd4ba5bf81/google_api_python_client-1.7.4-py3-none-any.whl\n",
      "Collecting pyasn1\n",
      "  Using cached https://files.pythonhosted.org/packages/d1/a1/7790cc85db38daa874f6a2e6308131b9953feb1367f2ae2d1123bb93a9f5/pyasn1-0.4.4-py2.py3-none-any.whl\n",
      "Collecting six<2dev,>=1.6.1 (from google-api-python-client)\n",
      "  Using cached https://files.pythonhosted.org/packages/67/4b/141a581104b1f6397bfa78ac9d43d8ad29a7ca43ea90a2d863fe3056e86a/six-1.11.0-py2.py3-none-any.whl\n",
      "Collecting google-auth-httplib2>=0.0.3 (from google-api-python-client)\n",
      "  Using cached https://files.pythonhosted.org/packages/33/49/c814d6d438b823441552198f096fcd0377fd6c88714dbed34f1d3c8c4389/google_auth_httplib2-0.0.3-py2.py3-none-any.whl\n",
      "Collecting uritemplate<4dev,>=3.0.0 (from google-api-python-client)\n",
      "  Using cached https://files.pythonhosted.org/packages/e5/7d/9d5a640c4f8bf2c8b1afc015e9a9d8de32e13c9016dcc4b0ec03481fb396/uritemplate-3.0.0-py2.py3-none-any.whl\n",
      "Collecting httplib2<1dev,>=0.9.2 (from google-api-python-client)\n",
      "Collecting google-auth>=1.4.1 (from google-api-python-client)\n",
      "  Using cached https://files.pythonhosted.org/packages/58/cb/96dbb4e50e7a9d856e89cc9c8e36ab1055f9774f7d85f37e2156c1d79d9f/google_auth-1.5.1-py2.py3-none-any.whl\n",
      "Collecting pyasn1-modules>=0.2.1 (from google-auth>=1.4.1->google-api-python-client)\n",
      "  Using cached https://files.pythonhosted.org/packages/19/02/fa63f7ba30a0d7b925ca29d034510fc1ffde53264b71b4155022ddf3ab5d/pyasn1_modules-0.2.2-py2.py3-none-any.whl\n",
      "Collecting cachetools>=2.0.0 (from google-auth>=1.4.1->google-api-python-client)\n",
      "  Using cached https://files.pythonhosted.org/packages/0a/58/cbee863250b31d80f47401d04f34038db6766f95dea1cc909ea099c7e571/cachetools-2.1.0-py2.py3-none-any.whl\n",
      "Collecting rsa>=3.1.4 (from google-auth>=1.4.1->google-api-python-client)\n",
      "  Using cached https://files.pythonhosted.org/packages/e1/ae/baedc9cb175552e95f3395c43055a6a5e125ae4d48a1d7a924baca83e92e/rsa-3.4.2-py2.py3-none-any.whl\n",
      "Installing collected packages: six, pyasn1, pyasn1-modules, cachetools, rsa, google-auth, httplib2, google-auth-httplib2, uritemplate, google-api-python-client\n",
      "Successfully installed cachetools-2.1.0 google-api-python-client-1.7.4 google-auth-1.5.1 google-auth-httplib2-0.0.3 httplib2-0.11.3 pyasn1-0.4.4 pyasn1-modules-0.2.2 rsa-3.4.2 six-1.11.0 uritemplate-3.0.0\n"
     ]
    }
   ],
   "source": [
    "! pip install --upgrade google-api-python-client --ignore-installed pyasn1 --user --no-warn-script-location\n"
   ]
  },
  {
   "cell_type": "code",
   "execution_count": 39,
   "metadata": {
    "collapsed": false
   },
   "outputs": [
    {
     "data": {
      "text/plain": [
       "<bound method Recognizer.recognize_google_cloud of <speech_recognition.Recognizer object at 0x0000000004E7B5C0>>"
      ]
     },
     "execution_count": 39,
     "metadata": {},
     "output_type": "execute_result"
    }
   ],
   "source": [
    "r.recognize_google_cloud"
   ]
  },
  {
   "cell_type": "code",
   "execution_count": 40,
   "metadata": {
    "collapsed": false
   },
   "outputs": [
    {
     "name": "stdout",
     "output_type": "stream",
     "text": [
      "Collecting oauth2client\n",
      "  Downloading https://files.pythonhosted.org/packages/95/a9/4f25a14d23f0786b64875b91784607c2277eff25d48f915e39ff0cff505a/oauth2client-4.1.3-py2.py3-none-any.whl (98kB)\n",
      "Requirement already satisfied: rsa>=3.1.4 in c:\\users\\dell\\appdata\\roaming\\python\\python35\\site-packages (from oauth2client) (3.4.2)\n",
      "Requirement already satisfied: httplib2>=0.9.1 in c:\\users\\dell\\appdata\\roaming\\python\\python35\\site-packages (from oauth2client) (0.11.3)\n",
      "Requirement already satisfied: pyasn1-modules>=0.0.5 in c:\\users\\dell\\appdata\\roaming\\python\\python35\\site-packages (from oauth2client) (0.2.2)\n",
      "Requirement already satisfied: pyasn1>=0.1.7 in c:\\users\\dell\\appdata\\roaming\\python\\python35\\site-packages (from oauth2client) (0.4.4)\n",
      "Requirement already satisfied: six>=1.6.1 in c:\\users\\dell\\appdata\\roaming\\python\\python35\\site-packages (from oauth2client) (1.11.0)\n",
      "Installing collected packages: oauth2client\n",
      "Successfully installed oauth2client-4.1.3\n"
     ]
    }
   ],
   "source": [
    "!pip install oauth2client"
   ]
  },
  {
   "cell_type": "code",
   "execution_count": 48,
   "metadata": {
    "collapsed": false
   },
   "outputs": [
    {
     "ename": "TypeError",
     "evalue": "recognize_houndify() missing 2 required positional arguments: 'client_id' and 'client_key'",
     "output_type": "error",
     "traceback": [
      "\u001b[0;31m---------------------------------------------------------------------------\u001b[0m",
      "\u001b[0;31mTypeError\u001b[0m                                 Traceback (most recent call last)",
      "\u001b[0;32m<ipython-input-48-c20f3b2f5cdd>\u001b[0m in \u001b[0;36m<module>\u001b[0;34m()\u001b[0m\n\u001b[0;32m----> 1\u001b[0;31m \u001b[0mr\u001b[0m\u001b[1;33m.\u001b[0m\u001b[0mrecognize_houndify\u001b[0m\u001b[1;33m(\u001b[0m\u001b[0maudio\u001b[0m\u001b[1;33m)\u001b[0m\u001b[1;33m\u001b[0m\u001b[0m\n\u001b[0m",
      "\u001b[0;31mTypeError\u001b[0m: recognize_houndify() missing 2 required positional arguments: 'client_id' and 'client_key'"
     ]
    }
   ],
   "source": [
    "r.recognize_houndify(audio)"
   ]
  },
  {
   "cell_type": "markdown",
   "metadata": {},
   "source": [
    "You can send streaming audio to the sample program sample_wave.py. There are two .wav files you can try. You will get back a JSON Response based on the contents of the audio.\n",
    "\n",
    "https://www.houndify.com/applications/register?newClient=true"
   ]
  },
  {
   "cell_type": "code",
   "execution_count": 49,
   "metadata": {
    "collapsed": false
   },
   "outputs": [
    {
     "data": {
      "text/plain": [
       "'the stale smell of old beer lingers it takes heat to bring out the odor it cold dip restores health and zest a salt pickled taste fine with him tacos al pastor are my favorite eight zestful food is the hot cross bun'"
      ]
     },
     "execution_count": 49,
     "metadata": {},
     "output_type": "execute_result"
    }
   ],
   "source": [
    "r.recognize_houndify(audio,'qK1XpbBJXUFRAfVPhAtMkA==','tvHe-CIPyhtVWnZu7mewDMkgFVpu8uLcwaZWMpApAxIhTUJQEKuugXTATkNJyxGwtn98LEA2MFZ8OKmGz-vYAQ==')"
   ]
  },
  {
   "cell_type": "code",
   "execution_count": null,
   "metadata": {
    "collapsed": true
   },
   "outputs": [],
   "source": [
    "#slightly different"
   ]
  },
  {
   "cell_type": "code",
   "execution_count": 50,
   "metadata": {
    "collapsed": false
   },
   "outputs": [
    {
     "ename": "TypeError",
     "evalue": "recognize_ibm() missing 2 required positional arguments: 'username' and 'password'",
     "output_type": "error",
     "traceback": [
      "\u001b[0;31m---------------------------------------------------------------------------\u001b[0m",
      "\u001b[0;31mTypeError\u001b[0m                                 Traceback (most recent call last)",
      "\u001b[0;32m<ipython-input-50-08bf0a0026f8>\u001b[0m in \u001b[0;36m<module>\u001b[0;34m()\u001b[0m\n\u001b[0;32m----> 1\u001b[0;31m \u001b[0mr\u001b[0m\u001b[1;33m.\u001b[0m\u001b[0mrecognize_ibm\u001b[0m\u001b[1;33m(\u001b[0m\u001b[0maudio\u001b[0m\u001b[1;33m)\u001b[0m\u001b[1;33m\u001b[0m\u001b[0m\n\u001b[0m",
      "\u001b[0;31mTypeError\u001b[0m: recognize_ibm() missing 2 required positional arguments: 'username' and 'password'"
     ]
    }
   ],
   "source": [
    "r.recognize_ibm(audio)"
   ]
  },
  {
   "cell_type": "markdown",
   "metadata": {},
   "source": [
    "get started free https://www.ibm.com/watson/services/speech-to-text/\n",
    "The Lite plan gets you started with 100 minutes per month at no cost. When you upgrade to a paid plan, you will get access to Customization capabilities.\n",
    "https://console.bluemix.net/services/speech-to-text/7a8a4c1c-a0fa-4df5-8e29-2d02c587cf6d/?paneId=manage&new=true&env_id=ibm:yp:eu-gb&org=3b0fe479-0791-4eff-b88b-a882a2e4556e&space=ff974e0e-c168-411f-9d0a-f83fcdd61fd2"
   ]
  },
  {
   "cell_type": "code",
   "execution_count": 53,
   "metadata": {
    "collapsed": false
   },
   "outputs": [
    {
     "name": "stdout",
     "output_type": "stream",
     "text": [
      "Collecting watson-developer-cloud>=2.0.1\n",
      "  Downloading https://files.pythonhosted.org/packages/d5/e8/bbd1e9fad890008e888536b8cf74beb08d9df12126d32258ce74fb2c0123/watson-developer-cloud-2.0.1.tar.gz (233kB)\n",
      "Requirement already satisfied, skipping upgrade: requests<3.0,>=2.0 in c:\\users\\dell\\anaconda3\\lib\\site-packages (from watson-developer-cloud>=2.0.1) (2.12.4)\n",
      "Requirement already satisfied, skipping upgrade: python_dateutil>=2.5.3 in c:\\users\\dell\\anaconda3\\lib\\site-packages (from watson-developer-cloud>=2.0.1) (2.5.3)\n",
      "Collecting websocket-client==0.47.0 (from watson-developer-cloud>=2.0.1)\n",
      "  Downloading https://files.pythonhosted.org/packages/9d/fb/f51a03e232e00d6c504dfe815aed090c894ba3f8d3f7fd9612f3e227bf24/websocket_client-0.47.0-py2.py3-none-any.whl (200kB)\n",
      "Requirement already satisfied, skipping upgrade: six>=1.5 in c:\\users\\dell\\appdata\\roaming\\python\\python35\\site-packages (from python_dateutil>=2.5.3->watson-developer-cloud>=2.0.1) (1.11.0)\n",
      "Building wheels for collected packages: watson-developer-cloud\n",
      "  Running setup.py bdist_wheel for watson-developer-cloud: started\n",
      "  Running setup.py bdist_wheel for watson-developer-cloud: finished with status 'done'\n",
      "  Stored in directory: C:\\Users\\Dell\\AppData\\Local\\pip\\Cache\\wheels\\72\\da\\bd\\5803d89075df5870fff6a08276027982888c3d2c766ca83f98\n",
      "Successfully built watson-developer-cloud\n",
      "Installing collected packages: websocket-client, watson-developer-cloud\n",
      "Successfully installed watson-developer-cloud-2.0.1 websocket-client-0.47.0\n"
     ]
    }
   ],
   "source": [
    "! pip install --upgrade \"watson-developer-cloud>=2.0.1\"\n",
    "\n"
   ]
  },
  {
   "cell_type": "code",
   "execution_count": 30,
   "metadata": {
    "collapsed": false
   },
   "outputs": [
    {
     "name": "stdout",
     "output_type": "stream",
     "text": [
      "Collecting pocketsphinx\n",
      "  Downloading https://files.pythonhosted.org/packages/b2/b7/33ea7440fe7aa0d423210bd418e11d6c29f125fd34e8809bf07cb4aa640d/pocketsphinx-0.1.15-cp35-cp35m-win_amd64.whl (29.1MB)\n",
      "Installing collected packages: pocketsphinx\n",
      "Successfully installed pocketsphinx-0.1.15\n"
     ]
    }
   ],
   "source": [
    "! pip install pocketsphinx"
   ]
  },
  {
   "cell_type": "code",
   "execution_count": 59,
   "metadata": {
    "collapsed": false
   },
   "outputs": [
    {
     "data": {
      "text/plain": [
       "\"this they'll smell of old we're lingers it takes heat to bring out the odor called it restores health and zest case all the colt is fine with him couples all pastore my favorite is as full food is the hot cross mon\""
      ]
     },
     "execution_count": 59,
     "metadata": {},
     "output_type": "execute_result"
    }
   ],
   "source": [
    "r.recognize_sphinx(audio)"
   ]
  },
  {
   "cell_type": "code",
   "execution_count": 60,
   "metadata": {
    "collapsed": false
   },
   "outputs": [
    {
     "ename": "TypeError",
     "evalue": "recognize_wit() missing 1 required positional argument: 'key'",
     "output_type": "error",
     "traceback": [
      "\u001b[0;31m---------------------------------------------------------------------------\u001b[0m",
      "\u001b[0;31mTypeError\u001b[0m                                 Traceback (most recent call last)",
      "\u001b[0;32m<ipython-input-60-8dbf099a62ed>\u001b[0m in \u001b[0;36m<module>\u001b[0;34m()\u001b[0m\n\u001b[0;32m----> 1\u001b[0;31m \u001b[0mr\u001b[0m\u001b[1;33m.\u001b[0m\u001b[0mrecognize_wit\u001b[0m\u001b[1;33m(\u001b[0m\u001b[0maudio\u001b[0m\u001b[1;33m)\u001b[0m\u001b[1;33m\u001b[0m\u001b[0m\n\u001b[0m",
      "\u001b[0;31mTypeError\u001b[0m: recognize_wit() missing 1 required positional argument: 'key'"
     ]
    }
   ],
   "source": [
    "r.recognize_wit(audio)"
   ]
  },
  {
   "cell_type": "markdown",
   "metadata": {},
   "source": [
    "key from khttps://wit.ai/ajayohri/MyFirstApp/settings"
   ]
  },
  {
   "cell_type": "code",
   "execution_count": 61,
   "metadata": {
    "collapsed": false
   },
   "outputs": [
    {
     "data": {
      "text/plain": [
       "'the stale smell of old beer lingers it takes heat to bring out the odor a cold dip restores health and zest a salt pickle taste fine with ham tacos al Pastore are my favorite a zestful food is be hot cross bun'"
      ]
     },
     "execution_count": 61,
     "metadata": {},
     "output_type": "execute_result"
    }
   ],
   "source": [
    "r.recognize_wit(audio,'L43BGEH2LKOIT4SPCPALQVRANO2HTF5U')"
   ]
  },
  {
   "cell_type": "code",
   "execution_count": null,
   "metadata": {
    "collapsed": true
   },
   "outputs": [],
   "source": [
    "#best performance so far"
   ]
  }
 ],
 "metadata": {
  "kernelspec": {
   "display_name": "Python [default]",
   "language": "python",
   "name": "python3"
  },
  "language_info": {
   "codemirror_mode": {
    "name": "ipython",
    "version": 3
   },
   "file_extension": ".py",
   "mimetype": "text/x-python",
   "name": "python",
   "nbconvert_exporter": "python",
   "pygments_lexer": "ipython3",
   "version": "3.5.2"
  }
 },
 "nbformat": 4,
 "nbformat_minor": 1
}
